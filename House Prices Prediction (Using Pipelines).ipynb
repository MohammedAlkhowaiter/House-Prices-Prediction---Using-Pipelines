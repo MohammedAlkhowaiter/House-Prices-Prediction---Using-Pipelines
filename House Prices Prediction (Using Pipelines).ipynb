{
 "cells": [
  {
   "cell_type": "markdown",
   "id": "0e519aea",
   "metadata": {
    "papermill": {
     "duration": 0.014042,
     "end_time": "2021-08-23T20:36:03.120995",
     "exception": false,
     "start_time": "2021-08-23T20:36:03.106953",
     "status": "completed"
    },
    "tags": []
   },
   "source": [
    "**This notebook is an exercise in the [Intermediate Machine Learning](https://www.kaggle.com/learn/intermediate-machine-learning) course.  You can reference the tutorial at [this link](https://www.kaggle.com/alexisbcook/pipelines).**\n",
    "\n",
    "---\n"
   ]
  },
  {
   "cell_type": "markdown",
   "id": "17326ac8",
   "metadata": {
    "papermill": {
     "duration": 0.012545,
     "end_time": "2021-08-23T20:36:03.149135",
     "exception": false,
     "start_time": "2021-08-23T20:36:03.136590",
     "status": "completed"
    },
    "tags": []
   },
   "source": [
    "In this exercise, i will use **pipelines** to improve the efficiency of the machine learning model.\n"
   ]
  },
  {
   "cell_type": "markdown",
   "id": "66ebe916",
   "metadata": {
    "papermill": {
     "duration": 0.012268,
     "end_time": "2021-08-23T20:36:04.201217",
     "exception": false,
     "start_time": "2021-08-23T20:36:04.188949",
     "status": "completed"
    },
    "tags": []
   },
   "source": [
    "The data i will work with data from the [Housing Prices Competition for Kaggle Learn Users](https://www.kaggle.com/c/home-data-for-ml-course). \n",
    "\n"
   ]
  },
  {
   "cell_type": "code",
   "execution_count": 1,
   "id": "b51efa55",
   "metadata": {
    "execution": {
     "iopub.execute_input": "2021-08-23T20:36:04.236442Z",
     "iopub.status.busy": "2021-08-23T20:36:04.235386Z",
     "iopub.status.idle": "2021-08-23T20:36:04.451091Z",
     "shell.execute_reply": "2021-08-23T20:36:04.450395Z",
     "shell.execute_reply.started": "2021-08-23T20:16:43.494851Z"
    },
    "papermill": {
     "duration": 0.237156,
     "end_time": "2021-08-23T20:36:04.451237",
     "exception": false,
     "start_time": "2021-08-23T20:36:04.214081",
     "status": "completed"
    },
    "tags": []
   },
   "outputs": [],
   "source": [
    "import pandas as pd\n",
    "from sklearn.model_selection import train_test_split\n",
    "\n",
    "# Read the data\n",
    "X_full = pd.read_csv(r'C:\\Users\\MohammedAlKhowaiter\\Downloads\\New folder\\train.csv', index_col='Id')\n",
    "X_test_full = pd.read_csv(r'C:\\Users\\MohammedAlKhowaiter\\Downloads\\New folder\\test.csv', index_col='Id')\n",
    "\n",
    "# Remove rows with missing target, separate target from predictors\n",
    "X_full.dropna(axis=0, subset=['SalePrice'], inplace=True)\n",
    "y = X_full.SalePrice\n",
    "X_full.drop(['SalePrice'], axis=1, inplace=True)\n",
    "\n",
    "# Break off validation set from training data\n",
    "X_train_full, X_valid_full, y_train, y_valid = train_test_split(X_full, y, \n",
    "                                                                train_size=0.8, test_size=0.2,\n",
    "                                                                random_state=0)\n",
    "\n",
    "# \"Cardinality\" means the number of unique values in a column\n",
    "# Select categorical columns with relatively low cardinality (convenient but arbitrary)\n",
    "categorical_cols = [cname for cname in X_train_full.columns if\n",
    "                    X_train_full[cname].nunique() < 10 and \n",
    "                    X_train_full[cname].dtype == \"object\"]\n",
    "\n",
    "# Select numerical columns\n",
    "numerical_cols = [cname for cname in X_train_full.columns if \n",
    "                X_train_full[cname].dtype in ['int64', 'float64']]\n",
    "\n",
    "# Keep selected columns only\n",
    "my_cols = categorical_cols + numerical_cols\n",
    "X_train = X_train_full[my_cols].copy()\n",
    "X_valid = X_valid_full[my_cols].copy()\n",
    "X_test = X_test_full[my_cols].copy()"
   ]
  },
  {
   "cell_type": "code",
   "execution_count": 2,
   "id": "377dbefd",
   "metadata": {
    "execution": {
     "iopub.execute_input": "2021-08-23T20:36:04.486726Z",
     "iopub.status.busy": "2021-08-23T20:36:04.485989Z",
     "iopub.status.idle": "2021-08-23T20:36:04.510086Z",
     "shell.execute_reply": "2021-08-23T20:36:04.509632Z",
     "shell.execute_reply.started": "2021-08-23T20:18:34.634780Z"
    },
    "papermill": {
     "duration": 0.045276,
     "end_time": "2021-08-23T20:36:04.510228",
     "exception": false,
     "start_time": "2021-08-23T20:36:04.464952",
     "status": "completed"
    },
    "tags": []
   },
   "outputs": [
    {
     "data": {
      "text/html": [
       "<div>\n",
       "<style scoped>\n",
       "    .dataframe tbody tr th:only-of-type {\n",
       "        vertical-align: middle;\n",
       "    }\n",
       "\n",
       "    .dataframe tbody tr th {\n",
       "        vertical-align: top;\n",
       "    }\n",
       "\n",
       "    .dataframe thead th {\n",
       "        text-align: right;\n",
       "    }\n",
       "</style>\n",
       "<table border=\"1\" class=\"dataframe\">\n",
       "  <thead>\n",
       "    <tr style=\"text-align: right;\">\n",
       "      <th></th>\n",
       "      <th>MSZoning</th>\n",
       "      <th>Street</th>\n",
       "      <th>Alley</th>\n",
       "      <th>LotShape</th>\n",
       "      <th>LandContour</th>\n",
       "      <th>Utilities</th>\n",
       "      <th>LotConfig</th>\n",
       "      <th>LandSlope</th>\n",
       "      <th>Condition1</th>\n",
       "      <th>Condition2</th>\n",
       "      <th>...</th>\n",
       "      <th>GarageArea</th>\n",
       "      <th>WoodDeckSF</th>\n",
       "      <th>OpenPorchSF</th>\n",
       "      <th>EnclosedPorch</th>\n",
       "      <th>3SsnPorch</th>\n",
       "      <th>ScreenPorch</th>\n",
       "      <th>PoolArea</th>\n",
       "      <th>MiscVal</th>\n",
       "      <th>MoSold</th>\n",
       "      <th>YrSold</th>\n",
       "    </tr>\n",
       "    <tr>\n",
       "      <th>Id</th>\n",
       "      <th></th>\n",
       "      <th></th>\n",
       "      <th></th>\n",
       "      <th></th>\n",
       "      <th></th>\n",
       "      <th></th>\n",
       "      <th></th>\n",
       "      <th></th>\n",
       "      <th></th>\n",
       "      <th></th>\n",
       "      <th></th>\n",
       "      <th></th>\n",
       "      <th></th>\n",
       "      <th></th>\n",
       "      <th></th>\n",
       "      <th></th>\n",
       "      <th></th>\n",
       "      <th></th>\n",
       "      <th></th>\n",
       "      <th></th>\n",
       "      <th></th>\n",
       "    </tr>\n",
       "  </thead>\n",
       "  <tbody>\n",
       "    <tr>\n",
       "      <th>619</th>\n",
       "      <td>RL</td>\n",
       "      <td>Pave</td>\n",
       "      <td>NaN</td>\n",
       "      <td>Reg</td>\n",
       "      <td>Lvl</td>\n",
       "      <td>AllPub</td>\n",
       "      <td>Inside</td>\n",
       "      <td>Gtl</td>\n",
       "      <td>Norm</td>\n",
       "      <td>Norm</td>\n",
       "      <td>...</td>\n",
       "      <td>774</td>\n",
       "      <td>0</td>\n",
       "      <td>108</td>\n",
       "      <td>0</td>\n",
       "      <td>0</td>\n",
       "      <td>260</td>\n",
       "      <td>0</td>\n",
       "      <td>0</td>\n",
       "      <td>7</td>\n",
       "      <td>2007</td>\n",
       "    </tr>\n",
       "    <tr>\n",
       "      <th>871</th>\n",
       "      <td>RL</td>\n",
       "      <td>Pave</td>\n",
       "      <td>NaN</td>\n",
       "      <td>Reg</td>\n",
       "      <td>Lvl</td>\n",
       "      <td>AllPub</td>\n",
       "      <td>Inside</td>\n",
       "      <td>Gtl</td>\n",
       "      <td>PosN</td>\n",
       "      <td>Norm</td>\n",
       "      <td>...</td>\n",
       "      <td>308</td>\n",
       "      <td>0</td>\n",
       "      <td>0</td>\n",
       "      <td>0</td>\n",
       "      <td>0</td>\n",
       "      <td>0</td>\n",
       "      <td>0</td>\n",
       "      <td>0</td>\n",
       "      <td>8</td>\n",
       "      <td>2009</td>\n",
       "    </tr>\n",
       "    <tr>\n",
       "      <th>93</th>\n",
       "      <td>RL</td>\n",
       "      <td>Pave</td>\n",
       "      <td>Grvl</td>\n",
       "      <td>IR1</td>\n",
       "      <td>HLS</td>\n",
       "      <td>AllPub</td>\n",
       "      <td>Inside</td>\n",
       "      <td>Gtl</td>\n",
       "      <td>Norm</td>\n",
       "      <td>Norm</td>\n",
       "      <td>...</td>\n",
       "      <td>432</td>\n",
       "      <td>0</td>\n",
       "      <td>0</td>\n",
       "      <td>44</td>\n",
       "      <td>0</td>\n",
       "      <td>0</td>\n",
       "      <td>0</td>\n",
       "      <td>0</td>\n",
       "      <td>8</td>\n",
       "      <td>2009</td>\n",
       "    </tr>\n",
       "    <tr>\n",
       "      <th>818</th>\n",
       "      <td>RL</td>\n",
       "      <td>Pave</td>\n",
       "      <td>NaN</td>\n",
       "      <td>IR1</td>\n",
       "      <td>Lvl</td>\n",
       "      <td>AllPub</td>\n",
       "      <td>CulDSac</td>\n",
       "      <td>Gtl</td>\n",
       "      <td>Norm</td>\n",
       "      <td>Norm</td>\n",
       "      <td>...</td>\n",
       "      <td>857</td>\n",
       "      <td>150</td>\n",
       "      <td>59</td>\n",
       "      <td>0</td>\n",
       "      <td>0</td>\n",
       "      <td>0</td>\n",
       "      <td>0</td>\n",
       "      <td>0</td>\n",
       "      <td>7</td>\n",
       "      <td>2008</td>\n",
       "    </tr>\n",
       "    <tr>\n",
       "      <th>303</th>\n",
       "      <td>RL</td>\n",
       "      <td>Pave</td>\n",
       "      <td>NaN</td>\n",
       "      <td>IR1</td>\n",
       "      <td>Lvl</td>\n",
       "      <td>AllPub</td>\n",
       "      <td>Corner</td>\n",
       "      <td>Gtl</td>\n",
       "      <td>Norm</td>\n",
       "      <td>Norm</td>\n",
       "      <td>...</td>\n",
       "      <td>843</td>\n",
       "      <td>468</td>\n",
       "      <td>81</td>\n",
       "      <td>0</td>\n",
       "      <td>0</td>\n",
       "      <td>0</td>\n",
       "      <td>0</td>\n",
       "      <td>0</td>\n",
       "      <td>1</td>\n",
       "      <td>2006</td>\n",
       "    </tr>\n",
       "  </tbody>\n",
       "</table>\n",
       "<p>5 rows × 76 columns</p>\n",
       "</div>"
      ],
      "text/plain": [
       "    MSZoning Street Alley LotShape LandContour Utilities LotConfig LandSlope  \\\n",
       "Id                                                                             \n",
       "619       RL   Pave   NaN      Reg         Lvl    AllPub    Inside       Gtl   \n",
       "871       RL   Pave   NaN      Reg         Lvl    AllPub    Inside       Gtl   \n",
       "93        RL   Pave  Grvl      IR1         HLS    AllPub    Inside       Gtl   \n",
       "818       RL   Pave   NaN      IR1         Lvl    AllPub   CulDSac       Gtl   \n",
       "303       RL   Pave   NaN      IR1         Lvl    AllPub    Corner       Gtl   \n",
       "\n",
       "    Condition1 Condition2  ... GarageArea WoodDeckSF OpenPorchSF  \\\n",
       "Id                         ...                                     \n",
       "619       Norm       Norm  ...        774          0         108   \n",
       "871       PosN       Norm  ...        308          0           0   \n",
       "93        Norm       Norm  ...        432          0           0   \n",
       "818       Norm       Norm  ...        857        150          59   \n",
       "303       Norm       Norm  ...        843        468          81   \n",
       "\n",
       "    EnclosedPorch 3SsnPorch ScreenPorch PoolArea MiscVal MoSold YrSold  \n",
       "Id                                                                      \n",
       "619             0         0         260        0       0      7   2007  \n",
       "871             0         0           0        0       0      8   2009  \n",
       "93             44         0           0        0       0      8   2009  \n",
       "818             0         0           0        0       0      7   2008  \n",
       "303             0         0           0        0       0      1   2006  \n",
       "\n",
       "[5 rows x 76 columns]"
      ]
     },
     "execution_count": 2,
     "metadata": {},
     "output_type": "execute_result"
    }
   ],
   "source": [
    "X_train.head()"
   ]
  },
  {
   "cell_type": "code",
   "execution_count": 3,
   "id": "4a7c6a5f",
   "metadata": {
    "execution": {
     "iopub.execute_input": "2021-08-23T20:36:04.541115Z",
     "iopub.status.busy": "2021-08-23T20:36:04.540412Z",
     "iopub.status.idle": "2021-08-23T20:36:04.544184Z",
     "shell.execute_reply": "2021-08-23T20:36:04.543596Z",
     "shell.execute_reply.started": "2021-08-23T20:23:38.910968Z"
    },
    "papermill": {
     "duration": 0.021218,
     "end_time": "2021-08-23T20:36:04.544322",
     "exception": false,
     "start_time": "2021-08-23T20:36:04.523104",
     "status": "completed"
    },
    "tags": []
   },
   "outputs": [
    {
     "name": "stdout",
     "output_type": "stream",
     "text": [
      "['MSZoning', 'Street', 'Alley', 'LotShape', 'LandContour', 'Utilities', 'LotConfig', 'LandSlope', 'Condition1', 'Condition2', 'BldgType', 'HouseStyle', 'RoofStyle', 'RoofMatl', 'MasVnrType', 'ExterQual', 'ExterCond', 'Foundation', 'BsmtQual', 'BsmtCond', 'BsmtExposure', 'BsmtFinType1', 'BsmtFinType2', 'Heating', 'HeatingQC', 'CentralAir', 'Electrical', 'KitchenQual', 'Functional', 'FireplaceQu', 'GarageType', 'GarageFinish', 'GarageQual', 'GarageCond', 'PavedDrive', 'PoolQC', 'Fence', 'MiscFeature', 'SaleType', 'SaleCondition', 'MSSubClass', 'LotFrontage', 'LotArea', 'OverallQual', 'OverallCond', 'YearBuilt', 'YearRemodAdd', 'MasVnrArea', 'BsmtFinSF1', 'BsmtFinSF2', 'BsmtUnfSF', 'TotalBsmtSF', '1stFlrSF', '2ndFlrSF', 'LowQualFinSF', 'GrLivArea', 'BsmtFullBath', 'BsmtHalfBath', 'FullBath', 'HalfBath', 'BedroomAbvGr', 'KitchenAbvGr', 'TotRmsAbvGrd', 'Fireplaces', 'GarageYrBlt', 'GarageCars', 'GarageArea', 'WoodDeckSF', 'OpenPorchSF', 'EnclosedPorch', '3SsnPorch', 'ScreenPorch', 'PoolArea', 'MiscVal', 'MoSold', 'YrSold']\n"
     ]
    }
   ],
   "source": [
    "print(my_cols)"
   ]
  },
  {
   "cell_type": "markdown",
   "id": "fc3ed5b4",
   "metadata": {
    "papermill": {
     "duration": 0.013276,
     "end_time": "2021-08-23T20:36:04.572003",
     "exception": false,
     "start_time": "2021-08-23T20:36:04.558727",
     "status": "completed"
    },
    "tags": []
   },
   "source": [
    "The next code cell preprocess the data and train a model.  Run this code without changes."
   ]
  },
  {
   "cell_type": "code",
   "execution_count": 4,
   "id": "8b5465b5",
   "metadata": {
    "execution": {
     "iopub.execute_input": "2021-08-23T20:36:04.608397Z",
     "iopub.status.busy": "2021-08-23T20:36:04.607782Z",
     "iopub.status.idle": "2021-08-23T20:36:07.496392Z",
     "shell.execute_reply": "2021-08-23T20:36:07.496881Z",
     "shell.execute_reply.started": "2021-08-23T20:27:15.272932Z"
    },
    "papermill": {
     "duration": 2.910825,
     "end_time": "2021-08-23T20:36:07.497070",
     "exception": false,
     "start_time": "2021-08-23T20:36:04.586245",
     "status": "completed"
    },
    "tags": []
   },
   "outputs": [
    {
     "name": "stdout",
     "output_type": "stream",
     "text": [
      "MAE: 17861.780102739725\n"
     ]
    }
   ],
   "source": [
    "from sklearn.compose import ColumnTransformer\n",
    "from sklearn.pipeline import Pipeline\n",
    "from sklearn.impute import SimpleImputer\n",
    "from sklearn.preprocessing import OneHotEncoder\n",
    "from sklearn.ensemble import RandomForestRegressor\n",
    "from sklearn.metrics import mean_absolute_error\n",
    "\n",
    "# Preprocessing for numerical data\n",
    "numerical_transformer = SimpleImputer(strategy='constant')\n",
    "\n",
    "# Preprocessing for categorical data\n",
    "categorical_transformer = Pipeline(steps=[\n",
    "    ('imputer', SimpleImputer(strategy='most_frequent')),\n",
    "    ('onehot', OneHotEncoder(handle_unknown='ignore'))\n",
    "])\n",
    "\n",
    "# Bundle preprocessing for numerical and categorical data\n",
    "preprocessor = ColumnTransformer(\n",
    "    transformers=[\n",
    "        ('num', numerical_transformer, numerical_cols),\n",
    "        ('cat', categorical_transformer, categorical_cols)\n",
    "    ])\n",
    "\n",
    "# Define model\n",
    "model = RandomForestRegressor(n_estimators=100, random_state=0)\n",
    "\n",
    "# Bundle preprocessing and modeling code in a pipeline\n",
    "clf = Pipeline(steps=[('preprocessor', preprocessor),\n",
    "                      ('model', model)\n",
    "                     ])\n",
    "\n",
    "# Preprocessing of training data, fit model \n",
    "clf.fit(X_train, y_train)\n",
    "\n",
    "# Preprocessing of validation data, get predictions\n",
    "preds = clf.predict(X_valid)\n",
    "\n",
    "print('MAE:', mean_absolute_error(y_valid, preds))"
   ]
  },
  {
   "cell_type": "code",
   "execution_count": 5,
   "id": "023e589d",
   "metadata": {
    "execution": {
     "iopub.execute_input": "2021-08-23T20:36:07.527896Z",
     "iopub.status.busy": "2021-08-23T20:36:07.526951Z",
     "iopub.status.idle": "2021-08-23T20:36:07.593017Z",
     "shell.execute_reply": "2021-08-23T20:36:07.592472Z",
     "shell.execute_reply.started": "2021-08-23T20:27:33.866418Z"
    },
    "papermill": {
     "duration": 0.082743,
     "end_time": "2021-08-23T20:36:07.593170",
     "exception": false,
     "start_time": "2021-08-23T20:36:07.510427",
     "status": "completed"
    },
    "tags": []
   },
   "outputs": [
    {
     "name": "stdout",
     "output_type": "stream",
     "text": [
      "Pipeline(steps=[('preprocessor',\n",
      "                 ColumnTransformer(transformers=[('num',\n",
      "                                                  SimpleImputer(strategy='constant'),\n",
      "                                                  ['MSSubClass', 'LotFrontage',\n",
      "                                                   'LotArea', 'OverallQual',\n",
      "                                                   'OverallCond', 'YearBuilt',\n",
      "                                                   'YearRemodAdd', 'MasVnrArea',\n",
      "                                                   'BsmtFinSF1', 'BsmtFinSF2',\n",
      "                                                   'BsmtUnfSF', 'TotalBsmtSF',\n",
      "                                                   '1stFlrSF', '2ndFlrSF',\n",
      "                                                   'LowQualFinSF', 'GrLivArea',\n",
      "                                                   'BsmtFullBath',\n",
      "                                                   'BsmtHalfBath', 'FullBa...\n",
      "                                                   'LotConfig', 'LandSlope',\n",
      "                                                   'Condition1', 'Condition2',\n",
      "                                                   'BldgType', 'HouseStyle',\n",
      "                                                   'RoofStyle', 'RoofMatl',\n",
      "                                                   'MasVnrType', 'ExterQual',\n",
      "                                                   'ExterCond', 'Foundation',\n",
      "                                                   'BsmtQual', 'BsmtCond',\n",
      "                                                   'BsmtExposure',\n",
      "                                                   'BsmtFinType1',\n",
      "                                                   'BsmtFinType2', 'Heating',\n",
      "                                                   'HeatingQC', 'CentralAir',\n",
      "                                                   'Electrical', 'KitchenQual',\n",
      "                                                   'Functional', 'FireplaceQu', ...])])),\n",
      "                ('model', RandomForestRegressor(random_state=0))])\n"
     ]
    }
   ],
   "source": [
    "print(clf)"
   ]
  },
  {
   "cell_type": "markdown",
   "id": "d6bda634",
   "metadata": {
    "papermill": {
     "duration": 0.013404,
     "end_time": "2021-08-23T20:36:07.620406",
     "exception": false,
     "start_time": "2021-08-23T20:36:07.607002",
     "status": "completed"
    },
    "tags": []
   },
   "source": [
    "The code yields a value around 17862 for the mean absolute error (MAE).  In the next step, i will try to implement on the code to get better results.\n",
    "\n",
    "# Step 1: Improve the performance\n",
    "\n",
    "### Part A\n"
   ]
  },
  {
   "cell_type": "code",
   "execution_count": 6,
   "id": "068fde48",
   "metadata": {
    "execution": {
     "iopub.execute_input": "2021-08-23T20:36:07.657082Z",
     "iopub.status.busy": "2021-08-23T20:36:07.656414Z",
     "iopub.status.idle": "2021-08-23T20:36:07.662383Z",
     "shell.execute_reply": "2021-08-23T20:36:07.662855Z",
     "shell.execute_reply.started": "2021-08-23T20:34:38.654951Z"
    },
    "papermill": {
     "duration": 0.026935,
     "end_time": "2021-08-23T20:36:07.663033",
     "exception": false,
     "start_time": "2021-08-23T20:36:07.636098",
     "status": "completed"
    },
    "tags": []
   },
   "outputs": [],
   "source": [
    "# Preprocessing for numerical data\n",
    "numerical_transformer = SimpleImputer(strategy='mean')\n",
    "\n",
    "# Preprocessing for categorical data\n",
    "categorical_transformer = Pipeline(steps=[\n",
    "    ('imputer', SimpleImputer(strategy='most_frequent')),\n",
    "    ('onehot', OneHotEncoder(handle_unknown='ignore'))\n",
    "])\n",
    "\n",
    "# Bundle preprocessing for numerical and categorical data\n",
    "preprocessor = ColumnTransformer(\n",
    "    transformers=[\n",
    "        ('num', numerical_transformer, numerical_cols),\n",
    "        ('cat', categorical_transformer, categorical_cols)\n",
    "    ])\n",
    "\n",
    "# Define model\n",
    "model = RandomForestRegressor(n_estimators=140, random_state=0)\n"
   ]
  },
  {
   "cell_type": "code",
   "execution_count": 8,
   "id": "6e8bb68f",
   "metadata": {
    "execution": {
     "iopub.execute_input": "2021-08-23T20:36:07.766176Z",
     "iopub.status.busy": "2021-08-23T20:36:07.765214Z",
     "iopub.status.idle": "2021-08-23T20:36:11.478461Z",
     "shell.execute_reply": "2021-08-23T20:36:11.479025Z",
     "shell.execute_reply.started": "2021-08-23T20:34:44.294430Z"
    },
    "papermill": {
     "duration": 3.731728,
     "end_time": "2021-08-23T20:36:11.479190",
     "exception": false,
     "start_time": "2021-08-23T20:36:07.747462",
     "status": "completed"
    },
    "tags": []
   },
   "outputs": [
    {
     "name": "stdout",
     "output_type": "stream",
     "text": [
      "MAE: 17395.431482387477\n"
     ]
    }
   ],
   "source": [
    "# Bundle preprocessing and modeling code in a pipeline\n",
    "my_pipeline = Pipeline(steps=[('preprocessor', preprocessor),\n",
    "                              ('model', model)\n",
    "                             ])\n",
    "\n",
    "# Preprocessing of training data, fit model \n",
    "my_pipeline.fit(X_train, y_train)\n",
    "\n",
    "# Preprocessing of validation data, get predictions\n",
    "preds = my_pipeline.predict(X_valid)\n",
    "\n",
    "# Evaluate the model\n",
    "score = mean_absolute_error(y_valid, preds)\n",
    "print('MAE:', score)"
   ]
  },
  {
   "cell_type": "markdown",
   "id": "4df9ff31",
   "metadata": {},
   "source": [
    "The MAE is lower now. \n",
    "The lower the better"
   ]
  },
  {
   "cell_type": "markdown",
   "id": "867e81ab",
   "metadata": {
    "papermill": {
     "duration": 0.015159,
     "end_time": "2021-08-23T20:36:11.548260",
     "exception": false,
     "start_time": "2021-08-23T20:36:11.533101",
     "status": "completed"
    },
    "tags": []
   },
   "source": [
    "# Step 2: Generate test predictions\n",
    "\n",
    "Now, i'll use the trained model to generate predictions with the test data."
   ]
  },
  {
   "cell_type": "code",
   "execution_count": 9,
   "id": "3f47d13b",
   "metadata": {
    "execution": {
     "iopub.execute_input": "2021-08-23T20:36:11.588888Z",
     "iopub.status.busy": "2021-08-23T20:36:11.587968Z",
     "iopub.status.idle": "2021-08-23T20:36:11.671500Z",
     "shell.execute_reply": "2021-08-23T20:36:11.671937Z",
     "shell.execute_reply.started": "2021-08-23T20:35:33.523445Z"
    },
    "papermill": {
     "duration": 0.105179,
     "end_time": "2021-08-23T20:36:11.672108",
     "exception": false,
     "start_time": "2021-08-23T20:36:11.566929",
     "status": "completed"
    },
    "tags": []
   },
   "outputs": [],
   "source": [
    "# Preprocessing of test data, fit model\n",
    "preds_test = my_pipeline.predict(X_test)\n"
   ]
  },
  {
   "cell_type": "code",
   "execution_count": 11,
   "id": "345c4d55",
   "metadata": {},
   "outputs": [
    {
     "name": "stdout",
     "output_type": "stream",
     "text": [
      "[126899.64285714 154117.14285714 184344.85       ... 150646.62142857\n",
      " 111960.59285714 225532.38571429]\n"
     ]
    }
   ],
   "source": [
    "print(preds_test)"
   ]
  },
  {
   "cell_type": "markdown",
   "id": "278c4022",
   "metadata": {
    "papermill": {
     "duration": 0.016563,
     "end_time": "2021-08-23T20:36:11.745600",
     "exception": false,
     "start_time": "2021-08-23T20:36:11.729037",
     "status": "completed"
    },
    "tags": []
   },
   "source": [
    "Running the next code cell without changes will the save the results to a CSV file."
   ]
  },
  {
   "cell_type": "code",
   "execution_count": 13,
   "id": "8a01ef7c",
   "metadata": {
    "execution": {
     "iopub.execute_input": "2021-08-23T20:36:11.782937Z",
     "iopub.status.busy": "2021-08-23T20:36:11.781925Z",
     "iopub.status.idle": "2021-08-23T20:36:11.794727Z",
     "shell.execute_reply": "2021-08-23T20:36:11.794212Z"
    },
    "papermill": {
     "duration": 0.033065,
     "end_time": "2021-08-23T20:36:11.794869",
     "exception": false,
     "start_time": "2021-08-23T20:36:11.761804",
     "status": "completed"
    },
    "tags": []
   },
   "outputs": [],
   "source": [
    "# Save test predictions to file\n",
    "output = pd.DataFrame({'Id': X_test.index,\n",
    "                       'SalePrice': preds_test})\n",
    "output.to_csv('submission.csv', index=False)"
   ]
  },
  {
   "cell_type": "code",
   "execution_count": null,
   "id": "1204091b",
   "metadata": {},
   "outputs": [],
   "source": []
  }
 ],
 "metadata": {
  "kernelspec": {
   "display_name": "Python 3",
   "language": "python",
   "name": "python3"
  },
  "language_info": {
   "codemirror_mode": {
    "name": "ipython",
    "version": 3
   },
   "file_extension": ".py",
   "mimetype": "text/x-python",
   "name": "python",
   "nbconvert_exporter": "python",
   "pygments_lexer": "ipython3",
   "version": "3.8.8"
  },
  "papermill": {
   "default_parameters": {},
   "duration": 16.706364,
   "end_time": "2021-08-23T20:36:12.589956",
   "environment_variables": {},
   "exception": null,
   "input_path": "__notebook__.ipynb",
   "output_path": "__notebook__.ipynb",
   "parameters": {},
   "start_time": "2021-08-23T20:35:55.883592",
   "version": "2.3.3"
  }
 },
 "nbformat": 4,
 "nbformat_minor": 5
}
